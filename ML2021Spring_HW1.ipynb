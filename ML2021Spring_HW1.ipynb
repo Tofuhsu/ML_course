{
  "cells": [
    {
      "cell_type": "markdown",
      "metadata": {
        "id": "mz0_QVkxCrX3"
      },
      "source": [
        "# **Homework 1: COVID-19 Cases Prediction (Regression)**"
      ]
    },
    {
      "cell_type": "markdown",
      "metadata": {
        "id": "ZeZnPAiwDRWG"
      },
      "source": [
        "Author: Heng-Jui Chang\n",
        "\n",
        "Objectives:\n",
        "* Solve a regression problem with deep neural networks (DNN).\n",
        "* Understand basic DNN training tips.\n",
        "* Get familiar with PyTorch.\n",
        "\n",
        "If any questions, please contact the TAs via TA hours, or email.\n"
      ]
    },
    {
      "cell_type": "markdown",
      "metadata": {
        "id": "Jx3x1nDkG-Uy"
      },
      "source": [
        "# **Download Data**\n",
        "\n",
        "\n",
        "If the Google drive links are dead, you can download data from [kaggle](https://www.kaggle.com/c/ntpucsie-ml2022spring-hw1-v2), and upload data manually to the workspace.\n",
        "\n",
        "如果需要邀請，邀請連結，這是[邀請連結](https://www.kaggle.com/t/7d7a965ceab54a46b9ec76973c25149a)"
      ]
    },
    {
      "cell_type": "code",
      "execution_count": null,
      "metadata": {
        "colab": {
          "base_uri": "https://localhost:8080/"
        },
        "id": "tMj55YDKG6ch",
        "outputId": "d7eeb014-853e-413d-9bc6-658981bd90db"
      },
      "outputs": [
        {
          "output_type": "stream",
          "name": "stdout",
          "text": [
            "/usr/local/lib/python3.9/dist-packages/gdown/cli.py:127: FutureWarning: Option `--id` was deprecated in version 4.3.1 and will be removed in 5.0. You don't need to pass it anymore to use a file ID.\n",
            "  warnings.warn(\n",
            "Downloading...\n",
            "From: https://drive.google.com/uc?id=1Wweg6vyFs2GbLzbi4CLA64cWb1gQafPA\n",
            "To: /content/covid.train_v2.csv\n",
            "100% 1.58M/1.58M [00:00<00:00, 116MB/s]\n",
            "/usr/local/lib/python3.9/dist-packages/gdown/cli.py:127: FutureWarning: Option `--id` was deprecated in version 4.3.1 and will be removed in 5.0. You don't need to pass it anymore to use a file ID.\n",
            "  warnings.warn(\n",
            "Downloading...\n",
            "From: https://drive.google.com/uc?id=1VtQ8E3cy6gatnYPkJZ7f4BkLA7BmQhyd\n",
            "To: /content/covid.test_v2.csv\n",
            "100% 408k/408k [00:00<00:00, 105MB/s]\n"
          ]
        }
      ],
      "source": [
        "tr_path = 'covid.train_v2.csv'  # path to training data\n",
        "tt_path = 'covid.test_v2.csv'   # path to testing data\n",
        "\n",
        "!gdown --id '1Wweg6vyFs2GbLzbi4CLA64cWb1gQafPA' --output covid.train_v2.csv\n",
        "!gdown --id '1VtQ8E3cy6gatnYPkJZ7f4BkLA7BmQhyd' --output covid.test_v2.csv"
      ]
    },
    {
      "cell_type": "code",
      "execution_count": null,
      "metadata": {
        "id": "hTYDgUmDH2B8"
      },
      "outputs": [],
      "source": [
        "from sklearn.model_selection import train_test_split\n",
        "import pandas as pd\n",
        "import pprint as pp\n",
        "data_tr = pd.read_csv(tr_path) \n",
        "data_tt = pd.read_csv(tt_path)\n",
        "cols = list(data_tr.columns)\n"
      ]
    },
    {
      "cell_type": "code",
      "execution_count": null,
      "metadata": {
        "colab": {
          "base_uri": "https://localhost:8080/"
        },
        "id": "ivjxdQydNR_E",
        "outputId": "5d4ec0a3-74d0-46c6-8f15-0d60081a1142"
      },
      "outputs": [
        {
          "output_type": "execute_result",
          "data": {
            "text/plain": [
              "[40, 41, 42, 43, 57, 58, 59, 60, 61, 75, 76, 77, 78, 79]"
            ]
          },
          "metadata": {},
          "execution_count": 363
        }
      ],
      "source": [
        "from torch.nn.modules.transformer import F\n",
        "data_corr = data_tr.iloc[:, 40:].corr()\n",
        "target_col = data_corr['tested_positive.2']\n",
        "feature = target_col[target_col > 0.8]\n",
        "feature_cols = feature.index.tolist()\n",
        "feature_cols.pop()\n",
        "feats_selected = [cols.index(col)-1 for col in feature_cols]\n",
        "feats_selected\n"
      ]
    },
    {
      "cell_type": "markdown",
      "metadata": {
        "id": "wS_4-77xHk44"
      },
      "source": [
        "# **Import Some Packages**"
      ]
    },
    {
      "cell_type": "code",
      "execution_count": null,
      "metadata": {
        "id": "k-onQd4JNA5H"
      },
      "outputs": [],
      "source": [
        "# PyTorch\n",
        "import torch\n",
        "import torch.nn as nn\n",
        "from torch.utils.data import Dataset, DataLoader\n",
        "\n",
        "# For data preprocess\n",
        "import numpy as np\n",
        "import csv\n",
        "import os\n",
        "\n",
        "# For plotting\n",
        "import matplotlib.pyplot as plt\n",
        "from matplotlib.pyplot import figure\n",
        "\n",
        "myseed = 42069  # set a random seed for reproducibility\n",
        "torch.backends.cudnn.deterministic = True\n",
        "torch.backends.cudnn.benchmark = False\n",
        "np.random.seed(myseed)\n",
        "torch.manual_seed(myseed)\n",
        "if torch.cuda.is_available():\n",
        "    torch.cuda.manual_seed_all(myseed)"
      ]
    },
    {
      "cell_type": "markdown",
      "metadata": {
        "id": "BtE3b6JEH7rw"
      },
      "source": [
        "# **Some Utilities**\n",
        "\n",
        "You do not need to modify this part."
      ]
    },
    {
      "cell_type": "code",
      "execution_count": null,
      "metadata": {
        "id": "FWMT3uf1NGQp"
      },
      "outputs": [],
      "source": [
        "def get_device():\n",
        "    ''' Get device (if GPU is available, use GPU) '''\n",
        "    return 'cuda' if torch.cuda.is_available() else 'cpu'\n",
        "\n",
        "def plot_learning_curve(loss_record, title=''):\n",
        "    ''' Plot learning curve of your DNN (train & dev loss) '''\n",
        "    total_steps = len(loss_record['train'])\n",
        "    x_1 = range(total_steps)\n",
        "    x_2 = x_1[::len(loss_record['train']) // len(loss_record['dev'])]\n",
        "    figure(figsize=(6, 4))\n",
        "    plt.plot(x_1, loss_record['train'], c='tab:red', label='train')\n",
        "    plt.plot(x_2, loss_record['dev'], c='tab:cyan', label='dev')\n",
        "    plt.ylim(0.0, 5.)\n",
        "    plt.xlabel('Training steps')\n",
        "    plt.ylabel('MSE loss')\n",
        "    plt.title('Learning curve of {}'.format(title))\n",
        "    plt.legend()\n",
        "    plt.show()\n",
        "\n",
        "\n",
        "def plot_pred(dv_set, model, device, lim=35., preds=None, targets=None):\n",
        "    ''' Plot prediction of your DNN '''\n",
        "    if preds is None or targets is None:\n",
        "        model.eval()\n",
        "        preds, targets = [], []\n",
        "        for x, y in dv_set:\n",
        "            x, y = x.to(device), y.to(device)\n",
        "            with torch.no_grad():\n",
        "                pred = model(x)\n",
        "                preds.append(pred.detach().cpu())\n",
        "                targets.append(y.detach().cpu())\n",
        "        preds = torch.cat(preds, dim=0).numpy()\n",
        "        targets = torch.cat(targets, dim=0).numpy()\n",
        "\n",
        "    figure(figsize=(5, 5))\n",
        "    plt.scatter(targets, preds, c='r', alpha=0.5)\n",
        "    plt.plot([-0.2, lim], [-0.2, lim], c='b')\n",
        "    plt.xlim(-0.2, lim)\n",
        "    plt.ylim(-0.2, lim)\n",
        "    plt.xlabel('ground truth value')\n",
        "    plt.ylabel('predicted value')\n",
        "    plt.title('Ground Truth v.s. Prediction')\n",
        "    plt.show()"
      ]
    },
    {
      "cell_type": "markdown",
      "metadata": {
        "id": "39U_XFX6KOoj"
      },
      "source": [
        "# **Preprocess**\n",
        "\n",
        "We have three kinds of datasets:\n",
        "* `train`: for training\n",
        "* `dev`: for validation\n",
        "* `test`: for testing (w/o target value)"
      ]
    },
    {
      "cell_type": "markdown",
      "metadata": {
        "id": "TQ-MdwpLL7Dt"
      },
      "source": [
        "## **Dataset**\n",
        "\n",
        "The `COVID19Dataset` below does:\n",
        "* read `.csv` files\n",
        "* extract features\n",
        "* split `covid.train.csv` into train/dev sets\n",
        "* normalize features\n",
        "\n",
        "Finishing `TODO` below might make you pass medium baseline."
      ]
    },
    {
      "cell_type": "code",
      "execution_count": null,
      "metadata": {
        "id": "0zlpIp9ANJRU"
      },
      "outputs": [],
      "source": [
        "class COVID19Dataset(Dataset):\n",
        "    ''' Dataset for loading and preprocessing the COVID19 dataset '''\n",
        "    def __init__(self,\n",
        "           path,\n",
        "           mu,\n",
        "           std,\n",
        "           mode='train',\n",
        "           target_only=False):\n",
        "        self.mode = mode\n",
        "\n",
        "        # Read data into numpy arrays\n",
        "        with open(path, 'r') as fp:\n",
        "            data = list(csv.reader(fp))\n",
        "            data = np.array(data[1:])[:, 1:].astype(float)\n",
        "        \n",
        "        if not target_only:\n",
        "            feats = list(range(93))\n",
        "        else:\n",
        "            # TODO: Using 40 states & 2 tested_positive features (indices = 57 & 75)\n",
        "            feats = list(range(40)) + feats_selected\n",
        "            #pass\n",
        "\n",
        "        if self.mode == 'test':\n",
        "            # Testing data\n",
        "            # data: 560 x 93 (40 states + day 1 (18) + day 2 (18) + day 3 (17))\n",
        "            data = data[:, feats]\n",
        "            self.data = torch.FloatTensor(data)\n",
        "        else:\n",
        "            # Training data (train/dev sets)\n",
        "            # data: 2140 x 94 (40 states + day 1 (18) + day 2 (18) + day 3 (18))\n",
        "            target = data[:, -1]\n",
        "            data = data[:, feats]\n",
        "            \n",
        "            # Splitting training data into train & dev sets\n",
        "            #if mode == 'train':\n",
        "            #    indices = [i for i in range(len(data)) if i % 10 != 0]\n",
        "            #elif mode == 'dev':\n",
        "            #    indices = [i for i in range(len(data)) if i % 10 == 0]\n",
        "\n",
        "            indices_tr, indices_dev = train_test_split([i for i in range(data.shape[0])], test_size = 0.1, random_state = 0)\n",
        "            if self.mode == 'train':\n",
        "                indices = indices_tr\n",
        "            elif self.mode == 'dev':\n",
        "                indices = indices_dev\n",
        "            \n",
        "            # Convert data into PyTorch tensors\n",
        "            self.data = torch.FloatTensor(data[indices])\n",
        "            self.target = torch.FloatTensor(target[indices])\n",
        "\n",
        "        if self.mode == \"train\": \n",
        "            self.mu = self.data[:, 40:].mean(dim=0, keepdim=True)\n",
        "            self.std = self.data[:, 40:].std(dim=0, keepdim=True)\n",
        "        else: \n",
        "            self.mu = mu\n",
        "            self.std = std\n",
        "        # Normalize features (you may remove this part to see what will happen)\n",
        "        self.data[:,40:] = (self.data[:, 40:] - self.mu) / self.std  #归一化\n",
        "\n",
        "        self.dim = self.data.shape[1]\n",
        "\n",
        "        print('Finished reading the {} set of COVID19 Dataset ({} samples found, each dim = {})'\n",
        "              .format(mode, len(self.data), self.dim))\n",
        "\n",
        "    def __getitem__(self, index):\n",
        "        # Returns one sample at a time\n",
        "        if self.mode in ['train', 'dev']:\n",
        "            # For training\n",
        "            return self.data[index], self.target[index]\n",
        "        else:\n",
        "            # For testing (no target)\n",
        "            return self.data[index]\n",
        "\n",
        "    def __len__(self):\n",
        "        # Returns the size of the dataset\n",
        "        return len(self.data)"
      ]
    },
    {
      "cell_type": "markdown",
      "metadata": {
        "id": "AlhTlkE7MDo3"
      },
      "source": [
        "## **DataLoader**\n",
        "\n",
        "A `DataLoader` loads data from a given `Dataset` into batches.\n"
      ]
    },
    {
      "cell_type": "code",
      "execution_count": null,
      "metadata": {
        "id": "hlhLk5t6MBX3"
      },
      "outputs": [],
      "source": [
        "def prep_dataloader(path, mode, batch_size, n_jobs=0, target_only=False, mu=None, std=None):\n",
        "    ''' Generates a dataset, then is put into a dataloader. '''\n",
        "    dataset = COVID19Dataset(path, mu, std, mode=mode, target_only=target_only)  # Construct dataset\n",
        "    if mode == 'train':  \n",
        "        mu = dataset.mu\n",
        "        std = dataset.std\n",
        "    dataloader = DataLoader(\n",
        "        dataset, batch_size,\n",
        "        shuffle=(mode == 'train'), drop_last=False,\n",
        "        num_workers=n_jobs, pin_memory=True)                            # Construct dataloader\n",
        "    return dataloader, mu, std"
      ]
    },
    {
      "cell_type": "markdown",
      "metadata": {
        "id": "SGuycwR0MeQB"
      },
      "source": [
        "# **Deep Neural Network**\n",
        "\n",
        "`NeuralNet` is an `nn.Module` designed for regression.\n",
        "The DNN consists of 2 fully-connected layers with ReLU activation.\n",
        "This module also included a function `cal_loss` for calculating loss.\n"
      ]
    },
    {
      "cell_type": "code",
      "execution_count": null,
      "metadata": {
        "id": "49-uXYovOAI0"
      },
      "outputs": [],
      "source": [
        "class NeuralNet(nn.Module):\n",
        "    ''' A simple fully-connected deep neural network '''\n",
        "    def __init__(self, input_dim):\n",
        "        super(NeuralNet, self).__init__()\n",
        "\n",
        "        # Define your neural network here\n",
        "        # TODO: How to modify this model to achieve better performance?\n",
        "        self.net = nn.Sequential(\n",
        "            nn.Linear(input_dim, 64),\n",
        "            nn.ReLU(),\n",
        "            nn.Linear(64, 1)\n",
        "        )\n",
        "\n",
        "        # Mean squared error loss\n",
        "        self.criterion = nn.MSELoss(reduction='mean')\n",
        "\n",
        "    def forward(self, x):\n",
        "        ''' Given input of size (batch_size x input_dim), compute output of the network '''\n",
        "        return self.net(x).squeeze(1)\n",
        "\n",
        "    def cal_loss(self, pred, target):\n",
        "        ''' Calculate loss '''\n",
        "        # TODO: you may implement L1/L2 regularization here\n",
        "        eps = 1e-6\n",
        "        l2_reg = 0\n",
        "        alpha = 0.0001\n",
        "        \n",
        "        return torch.sqrt(self.criterion(pred, target) + eps) + l2_reg   "
      ]
    },
    {
      "cell_type": "markdown",
      "metadata": {
        "id": "DvFWVjZ5Nvga"
      },
      "source": [
        "# **Train/Dev/Test**"
      ]
    },
    {
      "cell_type": "markdown",
      "metadata": {
        "id": "MAM8QecJOyqn"
      },
      "source": [
        "## **Training**"
      ]
    },
    {
      "cell_type": "code",
      "execution_count": null,
      "metadata": {
        "id": "lOqcmYzMO7jB"
      },
      "outputs": [],
      "source": [
        "def train(tr_set, dv_set, model, config, device):\n",
        "    ''' DNN training '''\n",
        "\n",
        "    n_epochs = config['n_epochs']  # Maximum number of epochs\n",
        "\n",
        "    # Setup optimizer\n",
        "    optimizer = getattr(torch.optim, config['optimizer'])(\n",
        "        model.parameters(), **config['optim_hparas'])\n",
        "\n",
        "    min_mse = 1000.\n",
        "    loss_record = {'train': [], 'dev': []}      # for recording training loss\n",
        "    early_stop_cnt = 0\n",
        "    epoch = 0\n",
        "    while epoch < n_epochs:\n",
        "        model.train()                           # set model to training mode\n",
        "        for x, y in tr_set:                     # iterate through the dataloader\n",
        "            optimizer.zero_grad()               # set gradient to zero\n",
        "            x, y = x.to(device), y.to(device)   # move data to device (cpu/cuda)\n",
        "            pred = model(x)                     # forward pass (compute output)\n",
        "            mse_loss = model.cal_loss(pred, y)  # compute loss\n",
        "            mse_loss.backward()                 # compute gradient (backpropagation)\n",
        "            optimizer.step()                    # update model with optimizer\n",
        "            loss_record['train'].append(mse_loss.detach().cpu().item())\n",
        "\n",
        "        # After each epoch, test your model on the validation (development) set.\n",
        "        dev_mse = dev(dv_set, model, device)\n",
        "        if dev_mse < min_mse:\n",
        "            # Save model if your model improved\n",
        "            min_mse = dev_mse\n",
        "            print('Saving model (epoch = {:4d}, loss = {:.4f})'\n",
        "                .format(epoch + 1, min_mse))\n",
        "            torch.save(model.state_dict(), config['save_path'])  # Save model to specified path\n",
        "            early_stop_cnt = 0\n",
        "        else:\n",
        "            early_stop_cnt += 1\n",
        "\n",
        "        epoch += 1\n",
        "        loss_record['dev'].append(dev_mse)\n",
        "        if early_stop_cnt > config['early_stop']:\n",
        "            # Stop training if your model stops improving for \"config['early_stop']\" epochs.\n",
        "            break\n",
        "\n",
        "    print('Finished training after {} epochs'.format(epoch))\n",
        "    return min_mse, loss_record"
      ]
    },
    {
      "cell_type": "markdown",
      "metadata": {
        "id": "0hSd4Bn3O2PL"
      },
      "source": [
        "## **Validation**"
      ]
    },
    {
      "cell_type": "code",
      "execution_count": null,
      "metadata": {
        "id": "yrxrD3YsN3U2"
      },
      "outputs": [],
      "source": [
        "def dev(dv_set, model, device):\n",
        "    model.eval()                                # set model to evalutation mode\n",
        "    total_loss = 0\n",
        "    for x, y in dv_set:                         # iterate through the dataloader\n",
        "        x, y = x.to(device), y.to(device)       # move data to device (cpu/cuda)\n",
        "        with torch.no_grad():                   # disable gradient calculation\n",
        "            pred = model(x)                     # forward pass (compute output)\n",
        "            mse_loss = model.cal_loss(pred, y)  # compute loss\n",
        "        total_loss += mse_loss.detach().cpu().item() * len(x)  # accumulate loss\n",
        "    total_loss = total_loss / len(dv_set.dataset)              # compute averaged loss\n",
        "\n",
        "    return total_loss"
      ]
    },
    {
      "cell_type": "markdown",
      "metadata": {
        "id": "g0pdrhQAO41L"
      },
      "source": [
        "## **Testing**"
      ]
    },
    {
      "cell_type": "code",
      "execution_count": null,
      "metadata": {
        "id": "aSBMRFlYN5tB"
      },
      "outputs": [],
      "source": [
        "def test(tt_set, model, device):\n",
        "    model.eval()                                # set model to evalutation mode\n",
        "    preds = []\n",
        "    for x in tt_set:                            # iterate through the dataloader\n",
        "        x = x.to(device)                        # move data to device (cpu/cuda)\n",
        "        with torch.no_grad():                   # disable gradient calculation\n",
        "            pred = model(x)                     # forward pass (compute output)\n",
        "            preds.append(pred.detach().cpu())   # collect prediction\n",
        "    preds = torch.cat(preds, dim=0).numpy()     # concatenate all predictions and convert to a numpy array\n",
        "    return preds"
      ]
    },
    {
      "cell_type": "markdown",
      "metadata": {
        "id": "SvckkF5dvf0j"
      },
      "source": [
        "# **Setup Hyper-parameters**\n",
        "\n",
        "`config` contains hyper-parameters for training and the path to save your model."
      ]
    },
    {
      "cell_type": "code",
      "execution_count": null,
      "metadata": {
        "id": "NPXpdumwPjE7"
      },
      "outputs": [],
      "source": [
        "device = get_device()                 # get the current available device ('cpu' or 'cuda')\n",
        "os.makedirs('models', exist_ok=True)  # The trained model will be saved to ./models/\n",
        "target_only = True                   # TODO: Using 40 states & 2 tested_positive features\n",
        "\n",
        "# TODO: How to tune these hyper-parameters to improve your model's performance?\n",
        "config = {\n",
        "    'n_epochs': 3000,                # maximum number of epochs\n",
        "    'batch_size': 128,               # mini-batch size for dataloader\n",
        "    'optimizer': 'SGD',              # optimization algorithm (optimizer in torch.optim)\n",
        "    'optim_hparas': {                # hyper-parameters for the optimizer (depends on which optimizer you are using)\n",
        "        'lr': 0.002,                 # learning rate of SGD\n",
        "        'momentum': 0.5              # momentum for SGD\n",
        "    },\n",
        "    'early_stop': 200,               # early stopping epochs (the number epochs since your model's last improvement)\n",
        "    'save_path': 'models/model.pth'  # your model will be saved here\n",
        "}"
      ]
    },
    {
      "cell_type": "markdown",
      "metadata": {
        "id": "6j1eOV3TOH-j"
      },
      "source": [
        "# **Load data and model**"
      ]
    },
    {
      "cell_type": "code",
      "execution_count": null,
      "metadata": {
        "colab": {
          "base_uri": "https://localhost:8080/"
        },
        "id": "eNrYBMmePLKm",
        "outputId": "befa5f15-24ce-4329-e455-be8e1897231e"
      },
      "outputs": [
        {
          "output_type": "stream",
          "name": "stdout",
          "text": [
            "Finished reading the train set of COVID19 Dataset (1926 samples found, each dim = 54)\n",
            "Finished reading the dev set of COVID19 Dataset (214 samples found, each dim = 54)\n",
            "Finished reading the test set of COVID19 Dataset (560 samples found, each dim = 54)\n"
          ]
        }
      ],
      "source": [
        "tr_set, tr_mu, tr_std = prep_dataloader(tr_path, 'train', config['batch_size'], target_only=target_only)\n",
        "dv_set, mu_none, std_none = prep_dataloader(tr_path, 'dev', config['batch_size'], target_only=target_only, mu=tr_mu, std=tr_std)\n",
        "tt_set, mu_none, std_none = prep_dataloader(tt_path, 'test', config['batch_size'], target_only=target_only, mu=tr_mu, std=tr_std)"
      ]
    },
    {
      "cell_type": "code",
      "execution_count": null,
      "metadata": {
        "id": "FHylSirLP9oh"
      },
      "outputs": [],
      "source": [
        "model = NeuralNet(tr_set.dataset.dim).to(device)  # Construct model and move to device"
      ]
    },
    {
      "cell_type": "markdown",
      "metadata": {
        "id": "sX2B_zgSOPTJ"
      },
      "source": [
        "# **Start Training!**"
      ]
    },
    {
      "cell_type": "code",
      "execution_count": null,
      "metadata": {
        "colab": {
          "base_uri": "https://localhost:8080/"
        },
        "id": "GrEbUxazQAAZ",
        "outputId": "ed79ba3f-38a3-45bc-cddb-5dc58b24c5db"
      },
      "outputs": [
        {
          "output_type": "stream",
          "name": "stdout",
          "text": [
            "Saving model (epoch =    1, loss = 16.7476)\n",
            "Saving model (epoch =    2, loss = 16.5975)\n",
            "Saving model (epoch =    3, loss = 16.4364)\n",
            "Saving model (epoch =    4, loss = 16.2597)\n",
            "Saving model (epoch =    5, loss = 16.0551)\n",
            "Saving model (epoch =    6, loss = 15.8122)\n",
            "Saving model (epoch =    7, loss = 15.5251)\n",
            "Saving model (epoch =    8, loss = 15.1724)\n",
            "Saving model (epoch =    9, loss = 14.7405)\n",
            "Saving model (epoch =   10, loss = 14.2255)\n",
            "Saving model (epoch =   11, loss = 13.6163)\n",
            "Saving model (epoch =   12, loss = 12.9128)\n",
            "Saving model (epoch =   13, loss = 12.1383)\n",
            "Saving model (epoch =   14, loss = 11.3605)\n",
            "Saving model (epoch =   15, loss = 10.6276)\n",
            "Saving model (epoch =   16, loss = 10.0277)\n",
            "Saving model (epoch =   17, loss = 9.6052)\n",
            "Saving model (epoch =   18, loss = 9.3216)\n",
            "Saving model (epoch =   19, loss = 9.1248)\n",
            "Saving model (epoch =   20, loss = 8.9565)\n",
            "Saving model (epoch =   21, loss = 8.7909)\n",
            "Saving model (epoch =   22, loss = 8.6240)\n",
            "Saving model (epoch =   23, loss = 8.4652)\n",
            "Saving model (epoch =   24, loss = 8.3073)\n",
            "Saving model (epoch =   25, loss = 8.1405)\n",
            "Saving model (epoch =   26, loss = 7.9762)\n",
            "Saving model (epoch =   27, loss = 7.8199)\n",
            "Saving model (epoch =   28, loss = 7.6672)\n",
            "Saving model (epoch =   29, loss = 7.5117)\n",
            "Saving model (epoch =   30, loss = 7.3558)\n",
            "Saving model (epoch =   31, loss = 7.2035)\n",
            "Saving model (epoch =   32, loss = 7.0513)\n",
            "Saving model (epoch =   33, loss = 6.9017)\n",
            "Saving model (epoch =   34, loss = 6.7569)\n",
            "Saving model (epoch =   35, loss = 6.6107)\n",
            "Saving model (epoch =   36, loss = 6.4589)\n",
            "Saving model (epoch =   37, loss = 6.3041)\n",
            "Saving model (epoch =   38, loss = 6.1391)\n",
            "Saving model (epoch =   39, loss = 5.9673)\n",
            "Saving model (epoch =   40, loss = 5.7890)\n",
            "Saving model (epoch =   41, loss = 5.6088)\n",
            "Saving model (epoch =   42, loss = 5.4290)\n",
            "Saving model (epoch =   43, loss = 5.2316)\n",
            "Saving model (epoch =   44, loss = 5.0062)\n",
            "Saving model (epoch =   45, loss = 4.7647)\n",
            "Saving model (epoch =   46, loss = 4.5100)\n",
            "Saving model (epoch =   47, loss = 4.2409)\n",
            "Saving model (epoch =   48, loss = 3.9733)\n",
            "Saving model (epoch =   49, loss = 3.6949)\n",
            "Saving model (epoch =   50, loss = 3.4071)\n",
            "Saving model (epoch =   51, loss = 3.1397)\n",
            "Saving model (epoch =   52, loss = 2.8603)\n",
            "Saving model (epoch =   53, loss = 2.5970)\n",
            "Saving model (epoch =   54, loss = 2.3486)\n",
            "Saving model (epoch =   55, loss = 2.1244)\n",
            "Saving model (epoch =   56, loss = 1.9373)\n",
            "Saving model (epoch =   57, loss = 1.7614)\n",
            "Saving model (epoch =   58, loss = 1.6095)\n",
            "Saving model (epoch =   59, loss = 1.4764)\n",
            "Saving model (epoch =   60, loss = 1.3903)\n",
            "Saving model (epoch =   61, loss = 1.3291)\n",
            "Saving model (epoch =   62, loss = 1.2768)\n",
            "Saving model (epoch =   63, loss = 1.2460)\n",
            "Saving model (epoch =   64, loss = 1.2020)\n",
            "Saving model (epoch =   65, loss = 1.1883)\n",
            "Saving model (epoch =   66, loss = 1.1586)\n",
            "Saving model (epoch =   68, loss = 1.1358)\n",
            "Saving model (epoch =   69, loss = 1.1285)\n",
            "Saving model (epoch =   71, loss = 1.1112)\n",
            "Saving model (epoch =   72, loss = 1.1063)\n",
            "Saving model (epoch =   73, loss = 1.1035)\n",
            "Saving model (epoch =   75, loss = 1.0974)\n",
            "Saving model (epoch =   77, loss = 1.0883)\n",
            "Saving model (epoch =   79, loss = 1.0881)\n",
            "Saving model (epoch =   81, loss = 1.0779)\n",
            "Saving model (epoch =   84, loss = 1.0715)\n",
            "Saving model (epoch =   90, loss = 1.0569)\n",
            "Saving model (epoch =   94, loss = 1.0513)\n",
            "Saving model (epoch =  100, loss = 1.0452)\n",
            "Saving model (epoch =  101, loss = 1.0411)\n",
            "Saving model (epoch =  102, loss = 1.0395)\n",
            "Saving model (epoch =  103, loss = 1.0374)\n",
            "Saving model (epoch =  108, loss = 1.0321)\n",
            "Saving model (epoch =  109, loss = 1.0314)\n",
            "Saving model (epoch =  112, loss = 1.0302)\n",
            "Saving model (epoch =  114, loss = 1.0251)\n",
            "Saving model (epoch =  119, loss = 1.0190)\n",
            "Saving model (epoch =  124, loss = 1.0159)\n",
            "Saving model (epoch =  132, loss = 1.0133)\n",
            "Saving model (epoch =  135, loss = 1.0061)\n",
            "Saving model (epoch =  136, loss = 1.0061)\n",
            "Saving model (epoch =  143, loss = 1.0021)\n",
            "Saving model (epoch =  145, loss = 0.9986)\n",
            "Saving model (epoch =  150, loss = 0.9981)\n",
            "Saving model (epoch =  152, loss = 0.9971)\n",
            "Saving model (epoch =  157, loss = 0.9947)\n",
            "Saving model (epoch =  162, loss = 0.9886)\n",
            "Saving model (epoch =  168, loss = 0.9881)\n",
            "Saving model (epoch =  172, loss = 0.9805)\n",
            "Saving model (epoch =  182, loss = 0.9796)\n",
            "Saving model (epoch =  183, loss = 0.9781)\n",
            "Saving model (epoch =  188, loss = 0.9732)\n",
            "Saving model (epoch =  192, loss = 0.9720)\n",
            "Saving model (epoch =  194, loss = 0.9719)\n",
            "Saving model (epoch =  195, loss = 0.9702)\n",
            "Saving model (epoch =  210, loss = 0.9678)\n",
            "Saving model (epoch =  214, loss = 0.9657)\n",
            "Saving model (epoch =  221, loss = 0.9654)\n",
            "Saving model (epoch =  222, loss = 0.9621)\n",
            "Saving model (epoch =  229, loss = 0.9616)\n",
            "Saving model (epoch =  234, loss = 0.9586)\n",
            "Saving model (epoch =  247, loss = 0.9562)\n",
            "Saving model (epoch =  249, loss = 0.9555)\n",
            "Saving model (epoch =  262, loss = 0.9554)\n",
            "Saving model (epoch =  263, loss = 0.9554)\n",
            "Saving model (epoch =  265, loss = 0.9550)\n",
            "Saving model (epoch =  277, loss = 0.9511)\n",
            "Saving model (epoch =  282, loss = 0.9509)\n",
            "Saving model (epoch =  292, loss = 0.9506)\n",
            "Saving model (epoch =  296, loss = 0.9479)\n",
            "Saving model (epoch =  297, loss = 0.9478)\n",
            "Saving model (epoch =  305, loss = 0.9476)\n",
            "Saving model (epoch =  307, loss = 0.9464)\n",
            "Saving model (epoch =  313, loss = 0.9451)\n",
            "Saving model (epoch =  322, loss = 0.9443)\n",
            "Saving model (epoch =  324, loss = 0.9440)\n",
            "Saving model (epoch =  325, loss = 0.9440)\n",
            "Saving model (epoch =  334, loss = 0.9439)\n",
            "Saving model (epoch =  339, loss = 0.9437)\n",
            "Saving model (epoch =  341, loss = 0.9436)\n",
            "Saving model (epoch =  342, loss = 0.9435)\n",
            "Saving model (epoch =  356, loss = 0.9418)\n",
            "Saving model (epoch =  364, loss = 0.9413)\n",
            "Saving model (epoch =  370, loss = 0.9410)\n",
            "Saving model (epoch =  378, loss = 0.9404)\n",
            "Saving model (epoch =  388, loss = 0.9401)\n",
            "Saving model (epoch =  401, loss = 0.9394)\n",
            "Saving model (epoch =  432, loss = 0.9390)\n",
            "Saving model (epoch =  439, loss = 0.9386)\n",
            "Saving model (epoch =  445, loss = 0.9370)\n",
            "Saving model (epoch =  446, loss = 0.9368)\n",
            "Saving model (epoch =  447, loss = 0.9357)\n",
            "Saving model (epoch =  448, loss = 0.9357)\n",
            "Saving model (epoch =  451, loss = 0.9349)\n",
            "Saving model (epoch =  458, loss = 0.9339)\n",
            "Saving model (epoch =  495, loss = 0.9334)\n",
            "Saving model (epoch =  511, loss = 0.9334)\n",
            "Saving model (epoch =  648, loss = 0.9333)\n",
            "Saving model (epoch =  654, loss = 0.9333)\n",
            "Saving model (epoch =  751, loss = 0.9331)\n",
            "Saving model (epoch =  758, loss = 0.9323)\n",
            "Saving model (epoch =  825, loss = 0.9321)\n",
            "Saving model (epoch =  830, loss = 0.9316)\n",
            "Finished training after 1031 epochs\n"
          ]
        }
      ],
      "source": [
        "model_loss, model_loss_record = train(tr_set, dv_set, model, config, device)"
      ]
    },
    {
      "cell_type": "code",
      "execution_count": null,
      "metadata": {
        "colab": {
          "base_uri": "https://localhost:8080/",
          "height": 295
        },
        "id": "hsNO9nnXQBvP",
        "outputId": "40a0dfc5-2abf-4994-e6f9-7b8b9a51c449"
      },
      "outputs": [
        {
          "output_type": "display_data",
          "data": {
            "text/plain": [
              "<Figure size 432x288 with 1 Axes>"
            ],
            "image/png": "[encoded data removed]"
          },
          "metadata": {
            "needs_background": "light"
          }
        }
      ],
      "source": [
        "plot_learning_curve(model_loss_record, title='deep model')"
      ]
    },
    {
      "cell_type": "code",
      "execution_count": null,
      "metadata": {
        "colab": {
          "base_uri": "https://localhost:8080/",
          "height": 350
        },
        "id": "3iZTVn5WQFpX",
        "outputId": "73329ba7-a98c-46eb-f74e-8790a289c310"
      },
      "outputs": [
        {
          "output_type": "display_data",
          "data": {
            "text/plain": [
              "<Figure size 360x360 with 1 Axes>"
            ],
            "image/png": "[encoded data removed]"
          },
          "metadata": {
            "needs_background": "light"
          }
        }
      ],
      "source": [
        "del model\n",
        "model = NeuralNet(tr_set.dataset.dim).to(device)\n",
        "ckpt = torch.load(config['save_path'], map_location='cpu')  # Load your best model\n",
        "model.load_state_dict(ckpt)\n",
        "plot_pred(dv_set, model, device)  # Show prediction on the validation set"
      ]
    },
    {
      "cell_type": "markdown",
      "metadata": {
        "id": "aQikz3IPiyPf"
      },
      "source": [
        "# **Testing**\n",
        "The predictions of your model on testing set will be stored at `pred.csv`."
      ]
    },
    {
      "cell_type": "code",
      "execution_count": null,
      "metadata": {
        "colab": {
          "base_uri": "https://localhost:8080/"
        },
        "id": "O8cTuQjQQOon",
        "outputId": "edbaae59-0c48-44ce-8fb9-d071488efcca"
      },
      "outputs": [
        {
          "output_type": "stream",
          "name": "stdout",
          "text": [
            "Saving results to pred.csv\n"
          ]
        }
      ],
      "source": [
        "def save_pred(preds, file):\n",
        "    ''' Save predictions to specified file '''\n",
        "    print('Saving results to {}'.format(file))\n",
        "    with open(file, 'w') as fp:\n",
        "        writer = csv.writer(fp)\n",
        "        writer.writerow(['id', 'tested_positive'])\n",
        "        for i, p in enumerate(preds):\n",
        "            writer.writerow([i, p])\n",
        "\n",
        "preds = test(tt_set, model, device)  # predict COVID-19 cases with your model\n",
        "save_pred(preds, 'pred.csv')         # save prediction file to pred.csv"
      ]
    },
    {
      "cell_type": "markdown",
      "metadata": {
        "id": "nfrVxqJanGpE"
      },
      "source": [
        "# **Hints**\n",
        "\n",
        "## **Simple Baseline**\n",
        "* Run sample code\n",
        "\n",
        "## **Medium Baseline**\n",
        "* Feature selection: 40 states + 2 `tested_positive` (`TODO` in dataset)\n",
        "* 注意註解，或許可以發現隱藏在code裡的bug。\n",
        "\n",
        "## **Strong Baseline**\n",
        "* Feature selection (what other features are useful?)\n",
        "* DNN architecture (layers? dimension? activation function?)\n",
        "* Training (mini-batch? optimizer? learning rate?)\n",
        "* L2 regularization\n",
        "* There are some mistakes in the sample code, can you find them?"
      ]
    },
    {
      "cell_type": "markdown",
      "metadata": {
        "id": "9tmCwXgpot3t"
      },
      "source": [
        "# **Reference**\n",
        "This code is completely written by Heng-Jui Chang @ NTUEE.  \n",
        "Copying or reusing this code is required to specify the original author. \n",
        "\n",
        "E.g.  \n",
        "Source: Heng-Jui Chang @ NTUEE (https://github.com/ga642381/ML2021-Spring/blob/main/HW01/HW01.ipynb)\n"
      ]
    }
  ],
  "metadata": {
    "accelerator": "GPU",
    "colab": {
      "provenance": []
    },
    "kernelspec": {
      "display_name": "Python 3",
      "name": "python3"
    }
  },
  "nbformat": 4,
  "nbformat_minor": 0
}