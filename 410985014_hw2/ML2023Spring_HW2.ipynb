{
  "cells": [
    {
      "cell_type": "markdown",
      "metadata": {
        "id": "OYlaRwNu7ojq"
      },
      "source": [
        "# **Homework 2-1 Phoneme Classification**\n",
        "\n",
        "* Slides: https://speech.ee.ntu.edu.tw/~hylee/ml/ml2021-course-data/hw/HW02/HW02.pdf\n",
        "* Video (Chinese): https://youtu.be/PdjXnQbu2zo\n",
        "* Video (English): https://youtu.be/ESRr-VCykBs\n"
      ]
    },
    {
      "cell_type": "markdown",
      "metadata": {
        "id": "emUd7uS7crTz"
      },
      "source": [
        "## The DARPA TIMIT Acoustic-Phonetic Continuous Speech Corpus (TIMIT)\n",
        "The TIMIT corpus of reading speech has been designed to provide speech data for the acquisition of acoustic-phonetic knowledge and for the development and evaluation of automatic speech recognition systems.\n",
        "\n",
        "This homework is a multiclass classification task, \n",
        "we are going to train a deep neural network classifier to predict the phonemes for each frame from the speech corpus TIMIT.\n",
        "\n",
        "link: https://academictorrents.com/details/34e2b78745138186976cbc27939b1b34d18bd5b3"
      ]
    },
    {
      "cell_type": "markdown",
      "metadata": {
        "id": "KVUGfWTo7_Oj"
      },
      "source": [
        "## Download Data\n",
        "Download data from google drive, then unzip it.\n",
        "\n",
        "You should have `timit_11/train_11.npy`, `timit_11/train_label_11.npy`, and `timit_11/test_11.npy` after running this block.<br><br>\n",
        "`timit_11/`\n",
        "- `train_11.npy`: training data<br>\n",
        "- `train_label_11.npy`: training label<br>\n",
        "- `test_11.npy`:  testing data<br><br>\n",
        "\n",
        "**notes: if the google drive link is dead, you can download the data directly from Kaggle and upload it to the workspace**\n",
        "\n",
        "\n"
      ]
    },
    {
      "cell_type": "code",
      "execution_count": null,
      "metadata": {
        "id": "OzkiMEcC3Foq",
        "colab": {
          "base_uri": "https://localhost:8080/"
        },
        "outputId": "b1ade4e3-7e31-4a86-86a2-3fb4450d89e0"
      },
      "outputs": [
        {
          "output_type": "stream",
          "name": "stdout",
          "text": [
            "Looking in indexes: https://pypi.org/simple, https://us-python.pkg.dev/colab-wheels/public/simple/\n",
            "Requirement already satisfied: gdown in /usr/local/lib/python3.9/dist-packages (4.6.6)\n",
            "Requirement already satisfied: requests[socks] in /usr/local/lib/python3.9/dist-packages (from gdown) (2.27.1)\n",
            "Requirement already satisfied: six in /usr/local/lib/python3.9/dist-packages (from gdown) (1.16.0)\n",
            "Requirement already satisfied: filelock in /usr/local/lib/python3.9/dist-packages (from gdown) (3.10.0)\n",
            "Requirement already satisfied: tqdm in /usr/local/lib/python3.9/dist-packages (from gdown) (4.65.0)\n",
            "Requirement already satisfied: beautifulsoup4 in /usr/local/lib/python3.9/dist-packages (from gdown) (4.11.2)\n",
            "Requirement already satisfied: soupsieve>1.2 in /usr/local/lib/python3.9/dist-packages (from beautifulsoup4->gdown) (2.4)\n",
            "Requirement already satisfied: urllib3<1.27,>=1.21.1 in /usr/local/lib/python3.9/dist-packages (from requests[socks]->gdown) (1.26.15)\n",
            "Requirement already satisfied: certifi>=2017.4.17 in /usr/local/lib/python3.9/dist-packages (from requests[socks]->gdown) (2022.12.7)\n",
            "Requirement already satisfied: charset-normalizer~=2.0.0 in /usr/local/lib/python3.9/dist-packages (from requests[socks]->gdown) (2.0.12)\n",
            "Requirement already satisfied: idna<4,>=2.5 in /usr/local/lib/python3.9/dist-packages (from requests[socks]->gdown) (3.4)\n",
            "Requirement already satisfied: PySocks!=1.5.7,>=1.5.6 in /usr/local/lib/python3.9/dist-packages (from requests[socks]->gdown) (1.7.1)\n",
            "/usr/local/lib/python3.9/dist-packages/gdown/cli.py:121: FutureWarning: Option `--id` was deprecated in version 4.3.1 and will be removed in 5.0. You don't need to pass it anymore to use a file ID.\n",
            "  warnings.warn(\n",
            "Downloading...\n",
            "From: https://drive.google.com/uc?id=1iDmtJ8vg-SF8dC0r0AoOg4n5UdVOj9To\n",
            "To: /content/data.zip\n",
            "100% 272M/272M [00:01<00:00, 216MB/s]\n",
            "Archive:  data.zip\n",
            "data.zip  __MACOSX  model.ckpt\tsample_data  timit_11  tofu_prediction.csv\n"
          ]
        }
      ],
      "source": [
        "!pip install --upgrade --no-cache-dir gdown\n",
        "!gdown --id '1iDmtJ8vg-SF8dC0r0AoOg4n5UdVOj9To' --output data.zip\n",
        "!unzip -n data.zip\n",
        "!ls \n"
      ]
    },
    {
      "cell_type": "markdown",
      "metadata": {
        "id": "_L_4anls8Drv"
      },
      "source": [
        "## Preparing Data\n",
        "Load the training and testing data from the `.npy` file (NumPy array)."
      ]
    },
    {
      "cell_type": "code",
      "execution_count": null,
      "metadata": {
        "id": "IJjLT8em-y9G",
        "colab": {
          "base_uri": "https://localhost:8080/"
        },
        "outputId": "b38d3fb6-eb15-4ddf-e231-dd7483489ad9"
      },
      "outputs": [
        {
          "output_type": "stream",
          "name": "stdout",
          "text": [
            "Loading data ...\n",
            "Size of training data: (922449, 429)\n",
            "Size of testing data: (307483, 429)\n"
          ]
        }
      ],
      "source": [
        "# import numpy as np\n",
        "\n",
        "# print('Loading data ...')\n",
        "\n",
        "# data_root='./timit_11/'\n",
        "# train = np.load(data_root + 'train_11.npy')\n",
        "# train_label = np.load(data_root + 'train_label_11.npy')\n",
        "# test = np.load(data_root + 'test_11.npy')\n",
        "\n",
        "# print('Size of training data: {}'.format(train.shape))\n",
        "# print('Size of testing data: {}'.format(test.shape))\n",
        "\n",
        "# PyTorch\n",
        "import torch\n",
        "import torch.nn as nn\n",
        "from torch.utils.data import Dataset, DataLoader\n",
        "\n",
        "# For data preprocess\n",
        "import numpy as np\n",
        "import csv\n",
        "import os\n",
        "\n",
        "# For plotting\n",
        "import matplotlib.pyplot as plt\n",
        "from matplotlib.pyplot import figure\n",
        "\n",
        "myseed = 42096  # set a random seed for reproducibility\n",
        "torch.backends.cudnn.deterministic = True\n",
        "torch.backends.cudnn.benchmark = False\n",
        "np.random.seed(myseed)\n",
        "torch.manual_seed(myseed)\n",
        "if torch.cuda.is_available():\n",
        "    torch.cuda.manual_seed_all(myseed)\n",
        "\n",
        "print('Loading data ...')\n",
        "\n",
        "data_root='./timit_11/'\n",
        "train = np.load(data_root + 'train_11.npy')\n",
        "train_label = np.load(data_root + 'train_label_11.npy')\n",
        "test = np.load(data_root + 'test_11.npy')\n",
        "\n",
        "print('Size of training data: {}'.format(train.shape))\n",
        "print('Size of testing data: {}'.format(test.shape))"
      ]
    },
    {
      "cell_type": "markdown",
      "metadata": {
        "id": "us5XW_x6udZQ"
      },
      "source": [
        "## Create Dataset"
      ]
    },
    {
      "cell_type": "code",
      "execution_count": null,
      "metadata": {
        "id": "Fjf5EcmJtf4e"
      },
      "outputs": [],
      "source": [
        "import torch\n",
        "from torch.utils.data import Dataset\n",
        "\n",
        "class TIMITDataset(Dataset):\n",
        "    def __init__(self, X, y=None):\n",
        "        self.data = torch.from_numpy(X).float()\n",
        "        if y is not None:\n",
        "            y = y.astype(np.int)\n",
        "            self.label = torch.LongTensor(y)\n",
        "        else:\n",
        "            self.label = None\n",
        "\n",
        "    def __getitem__(self, idx):\n",
        "        if self.label is not None:\n",
        "            return self.data[idx], self.label[idx]\n",
        "        else:\n",
        "            return self.data[idx]\n",
        "\n",
        "    def __len__(self):\n",
        "        return len(self.data)\n"
      ]
    },
    {
      "cell_type": "markdown",
      "metadata": {
        "id": "otIC6WhGeh9v"
      },
      "source": [
        "Split the labeled data into a training set and a validation set, you can modify the variable `VAL_RATIO` to change the ratio of validation data."
      ]
    },
    {
      "cell_type": "code",
      "execution_count": null,
      "metadata": {
        "id": "sYqi_lAuvC59",
        "colab": {
          "base_uri": "https://localhost:8080/"
        },
        "outputId": "93ce805e-6aed-4196-a41e-839a42a79579"
      },
      "outputs": [
        {
          "output_type": "stream",
          "name": "stdout",
          "text": [
            "Size of training set: (913224, 429)\n",
            "Size of validation set: (9225, 429)\n"
          ]
        }
      ],
      "source": [
        "VAL_RATIO = 0.01\n",
        "\n",
        "percent = int(train.shape[0] * (1 - VAL_RATIO))\n",
        "train_x, train_y, val_x, val_y = train[:percent], train_label[:percent], train[percent:], train_label[percent:]\n",
        "print('Size of training set: {}'.format(train_x.shape))\n",
        "print('Size of validation set: {}'.format(val_x.shape))"
      ]
    },
    {
      "cell_type": "markdown",
      "metadata": {
        "id": "nbCfclUIgMTX"
      },
      "source": [
        "Create a data loader from the dataset, feel free to tweak the variable `BATCH_SIZE` here."
      ]
    },
    {
      "cell_type": "code",
      "execution_count": null,
      "metadata": {
        "id": "RUCbQvqJurYc",
        "colab": {
          "base_uri": "https://localhost:8080/"
        },
        "outputId": "3f0f7a53-9bb8-4221-adc6-9a382f82ee4c"
      },
      "outputs": [
        {
          "output_type": "stream",
          "name": "stderr",
          "text": [
            "<ipython-input-31-f6af567917fe>:8: DeprecationWarning: `np.int` is a deprecated alias for the builtin `int`. To silence this warning, use `int` by itself. Doing this will not modify any behavior and is safe. When replacing `np.int`, you may wish to use e.g. `np.int64` or `np.int32` to specify the precision. If you wish to review your current use, check the release note link for additional information.\n",
            "Deprecated in NumPy 1.20; for more details and guidance: https://numpy.org/devdocs/release/1.20.0-notes.html#deprecations\n",
            "  y = y.astype(np.int)\n"
          ]
        }
      ],
      "source": [
        "BATCH_SIZE = 4096\n",
        "\n",
        "from torch.utils.data import DataLoader\n",
        "train_set = TIMITDataset(train_x, train_y)\n",
        "val_set = TIMITDataset(val_x, val_y)\n",
        "train_loader = DataLoader(train_set, batch_size=BATCH_SIZE, shuffle=True) #only shuffle the training data\n",
        "val_loader = DataLoader(val_set, batch_size=BATCH_SIZE, shuffle=False)"
      ]
    },
    {
      "cell_type": "markdown",
      "metadata": {
        "id": "_SY7X0lUgb50"
      },
      "source": [
        "Cleanup the unneeded variables to save memory.<br>\n",
        "\n",
        "**notes: if you need to use these variables later, then you may remove this block or clean up unneeded variables later<br>the data size is quite huge, so be aware of memory usage in colab**"
      ]
    },
    {
      "cell_type": "code",
      "execution_count": null,
      "metadata": {
        "id": "y8rzkGraeYeN",
        "colab": {
          "base_uri": "https://localhost:8080/"
        },
        "outputId": "82fca8ba-4fb8-4ead-e0cf-f4a5ca84ee34"
      },
      "outputs": [
        {
          "output_type": "execute_result",
          "data": {
            "text/plain": [
              "33"
            ]
          },
          "metadata": {},
          "execution_count": 34
        }
      ],
      "source": [
        "import gc\n",
        "\n",
        "del train, train_label, train_x, train_y, val_x, val_y\n",
        "gc.collect()"
      ]
    },
    {
      "cell_type": "markdown",
      "metadata": {
        "id": "IRqKNvNZwe3V"
      },
      "source": [
        "## Create Model"
      ]
    },
    {
      "cell_type": "markdown",
      "metadata": {
        "id": "FYr1ng5fh9pA"
      },
      "source": [
        "Define model architecture, you are encouraged to change and experiment with the model architecture."
      ]
    },
    {
      "cell_type": "code",
      "execution_count": null,
      "metadata": {
        "id": "lbZrwT6Ny0XL"
      },
      "outputs": [],
      "source": [
        "import torch\n",
        "import torch.nn as nn\n",
        "class Classifier(nn.Module):\n",
        "    def __init__(self):\n",
        "        super(Classifier, self).__init__()\n",
        "        self.layer0 = nn.Linear(429,2048)\n",
        "        self.layer1 = nn.Linear(2048, 1024)\n",
        "        self.layer2 = nn.Linear(1024, 512)\n",
        "        self.layer3 = nn.Linear(512, 128)\n",
        "        self.out = nn.Linear(128, 39) \n",
        "\n",
        "        self.act_fn = nn.ReLU()\n",
        "        self.dropout1 = nn.Dropout(0.7)\n",
        "        self.dropout2 = nn.Dropout(0.5)\n",
        "        self.dropout3 = nn.Dropout(0.3)\n",
        "        self.batchnorm0 = nn.BatchNorm1d(2048)\n",
        "        self.batchnorm1 = nn.BatchNorm1d(1024)\n",
        "        self.batchnorm2 = nn.BatchNorm1d(512)\n",
        "        self.batchnorm3 = nn.BatchNorm1d(128)\n",
        "\n",
        "\n",
        "    def forward(self, x):\n",
        "        x = self.layer0(x)\n",
        "        x = self.batchnorm0(x)\n",
        "        x = self.act_fn(x)\n",
        "        x = self.dropout1(x)\n",
        "\n",
        "        x = self.layer1(x)\n",
        "        x = self.batchnorm1(x)\n",
        "        x = self.act_fn(x)\n",
        "        x = self.dropout2(x)\n",
        "\n",
        "        x = self.layer2(x)\n",
        "        x = self.batchnorm2(x)\n",
        "        x = self.act_fn(x)\n",
        "        x = self.dropout3(x)\n",
        "\n",
        "        x = self.layer3(x)\n",
        "        x = self.batchnorm3(x)\n",
        "        x = self.act_fn(x)\n",
        "\n",
        "        x = self.out(x)\n",
        "        \n",
        "        return x\n",
        "\n",
        "\n"
      ]
    },
    {
      "cell_type": "markdown",
      "metadata": {
        "id": "VRYciXZvPbYh"
      },
      "source": [
        "## Training"
      ]
    },
    {
      "cell_type": "code",
      "execution_count": null,
      "metadata": {
        "id": "y114Vmm3Ja6o"
      },
      "outputs": [],
      "source": [
        "#check device\n",
        "def get_device():\n",
        "  return 'cuda' if torch.cuda.is_available() else 'cpu'"
      ]
    },
    {
      "cell_type": "markdown",
      "metadata": {
        "id": "sEX-yjHjhGuH"
      },
      "source": [
        "Fix random seeds for reproducibility."
      ]
    },
    {
      "cell_type": "code",
      "execution_count": null,
      "metadata": {
        "id": "88xPiUnm0tAd"
      },
      "outputs": [],
      "source": [
        "# fix random seed\n",
        "def same_seeds(seed):\n",
        "    torch.manual_seed(seed)\n",
        "    if torch.cuda.is_available():\n",
        "        torch.cuda.manual_seed(seed)\n",
        "        torch.cuda.manual_seed_all(seed)  \n",
        "    np.random.seed(seed)  \n",
        "    torch.backends.cudnn.benchmark = False\n",
        "    torch.backends.cudnn.deterministic = True"
      ]
    },
    {
      "cell_type": "markdown",
      "metadata": {
        "id": "KbBcBXkSp6RA"
      },
      "source": [
        "Feel free to change the training parameters here."
      ]
    },
    {
      "cell_type": "code",
      "execution_count": null,
      "metadata": {
        "id": "QTp3ZXg1yO9Y",
        "colab": {
          "base_uri": "https://localhost:8080/"
        },
        "outputId": "718ce8af-d9ef-4b56-b1c3-00f77b3dba96"
      },
      "outputs": [
        {
          "output_type": "stream",
          "name": "stdout",
          "text": [
            "DEVICE: cuda\n"
          ]
        }
      ],
      "source": [
        "# fix random seed for reproducibility\n",
        "same_seeds(0)\n",
        "\n",
        "# get device \n",
        "device = get_device()\n",
        "print(f'DEVICE: {device}')\n",
        "\n",
        "# training parameters\n",
        "num_epoch = 300              # number of training epoch\n",
        "learning_rate = 0.001       # learning rate\n",
        "\n",
        "# the path where checkpoint saved\n",
        "model_path = './model.ckpt'\n",
        "\n",
        "# create model, define a loss function, and optimizer\n",
        "model = Classifier().to(device)\n",
        "criterion = nn.CrossEntropyLoss() \n",
        "optimizer = torch.optim.NAdam(model.parameters(), lr=learning_rate)"
      ]
    },
    {
      "cell_type": "code",
      "execution_count": null,
      "metadata": {
        "id": "CdMWsBs7zzNs",
        "colab": {
          "base_uri": "https://localhost:8080/",
          "height": 1000
        },
        "outputId": "bef570a7-b1ba-42ba-ce6e-391cabb0f8c7"
      },
      "outputs": [
        {
          "output_type": "stream",
          "name": "stdout",
          "text": [
            "[001/300] Train Acc: 0.518392 Loss: 1.668296 | Val Acc: 0.618537 loss: 1.238222\n",
            "saving model with acc 0.619\n",
            "[002/300] Train Acc: 0.598034 Loss: 1.290951 | Val Acc: 0.641192 loss: 1.123212\n",
            "saving model with acc 0.641\n",
            "[003/300] Train Acc: 0.619238 Loss: 1.206462 | Val Acc: 0.663957 loss: 1.060850\n",
            "saving model with acc 0.664\n",
            "[004/300] Train Acc: 0.634032 Loss: 1.153343 | Val Acc: 0.668943 loss: 1.025545\n",
            "saving model with acc 0.669\n",
            "[005/300] Train Acc: 0.644240 Loss: 1.115445 | Val Acc: 0.680108 loss: 0.999799\n",
            "saving model with acc 0.680\n",
            "[006/300] Train Acc: 0.651703 Loss: 1.087973 | Val Acc: 0.683144 loss: 0.978202\n",
            "saving model with acc 0.683\n",
            "[007/300] Train Acc: 0.657885 Loss: 1.065233 | Val Acc: 0.688347 loss: 0.959096\n",
            "saving model with acc 0.688\n",
            "[008/300] Train Acc: 0.662198 Loss: 1.046204 | Val Acc: 0.689539 loss: 0.952463\n",
            "saving model with acc 0.690\n",
            "[009/300] Train Acc: 0.667524 Loss: 1.027760 | Val Acc: 0.694743 loss: 0.935010\n",
            "saving model with acc 0.695\n",
            "[010/300] Train Acc: 0.671826 Loss: 1.014296 | Val Acc: 0.699404 loss: 0.920765\n",
            "saving model with acc 0.699\n",
            "[011/300] Train Acc: 0.674710 Loss: 1.000396 | Val Acc: 0.700054 loss: 0.915141\n",
            "saving model with acc 0.700\n",
            "[012/300] Train Acc: 0.678225 Loss: 0.989456 | Val Acc: 0.701247 loss: 0.899886\n",
            "saving model with acc 0.701\n",
            "[013/300] Train Acc: 0.680745 Loss: 0.980449 | Val Acc: 0.704173 loss: 0.894766\n",
            "saving model with acc 0.704\n",
            "[014/300] Train Acc: 0.684347 Loss: 0.969828 | Val Acc: 0.700379 loss: 0.894135\n",
            "[015/300] Train Acc: 0.685948 Loss: 0.961317 | Val Acc: 0.705041 loss: 0.878281\n",
            "saving model with acc 0.705\n",
            "[016/300] Train Acc: 0.687229 Loss: 0.955364 | Val Acc: 0.706450 loss: 0.882726\n",
            "saving model with acc 0.706\n",
            "[017/300] Train Acc: 0.690152 Loss: 0.947125 | Val Acc: 0.707100 loss: 0.884291\n",
            "saving model with acc 0.707\n",
            "[018/300] Train Acc: 0.691808 Loss: 0.940156 | Val Acc: 0.708726 loss: 0.872665\n",
            "saving model with acc 0.709\n",
            "[019/300] Train Acc: 0.693105 Loss: 0.934435 | Val Acc: 0.710569 loss: 0.865019\n",
            "saving model with acc 0.711\n",
            "[020/300] Train Acc: 0.695266 Loss: 0.927905 | Val Acc: 0.712737 loss: 0.868553\n",
            "saving model with acc 0.713\n",
            "[021/300] Train Acc: 0.696335 Loss: 0.924101 | Val Acc: 0.711003 loss: 0.857506\n",
            "[022/300] Train Acc: 0.698447 Loss: 0.917439 | Val Acc: 0.708943 loss: 0.857402\n",
            "[023/300] Train Acc: 0.699629 Loss: 0.911973 | Val Acc: 0.714146 loss: 0.857200\n",
            "saving model with acc 0.714\n",
            "[024/300] Train Acc: 0.700019 Loss: 0.908885 | Val Acc: 0.713930 loss: 0.856888\n",
            "[025/300] Train Acc: 0.701826 Loss: 0.904608 | Val Acc: 0.713496 loss: 0.852054\n",
            "[026/300] Train Acc: 0.703452 Loss: 0.899497 | Val Acc: 0.711545 loss: 0.846608\n",
            "[027/300] Train Acc: 0.704502 Loss: 0.895754 | Val Acc: 0.709810 loss: 0.849173\n",
            "[028/300] Train Acc: 0.704992 Loss: 0.893817 | Val Acc: 0.718699 loss: 0.846815\n",
            "saving model with acc 0.719\n",
            "[029/300] Train Acc: 0.706400 Loss: 0.887949 | Val Acc: 0.713713 loss: 0.845530\n",
            "[030/300] Train Acc: 0.706774 Loss: 0.886279 | Val Acc: 0.714146 loss: 0.842814\n",
            "[031/300] Train Acc: 0.708043 Loss: 0.882822 | Val Acc: 0.718157 loss: 0.834513\n",
            "[032/300] Train Acc: 0.708742 Loss: 0.880216 | Val Acc: 0.715339 loss: 0.842478\n",
            "[033/300] Train Acc: 0.709814 Loss: 0.876524 | Val Acc: 0.716206 loss: 0.845413\n",
            "[034/300] Train Acc: 0.710679 Loss: 0.873659 | Val Acc: 0.718808 loss: 0.838675\n",
            "saving model with acc 0.719\n",
            "[035/300] Train Acc: 0.711414 Loss: 0.870169 | Val Acc: 0.717182 loss: 0.833865\n",
            "[036/300] Train Acc: 0.712145 Loss: 0.866928 | Val Acc: 0.722060 loss: 0.830844\n",
            "saving model with acc 0.722\n",
            "[037/300] Train Acc: 0.713255 Loss: 0.864964 | Val Acc: 0.718808 loss: 0.825346\n",
            "[038/300] Train Acc: 0.713225 Loss: 0.862478 | Val Acc: 0.716531 loss: 0.830686\n",
            "[039/300] Train Acc: 0.714008 Loss: 0.860730 | Val Acc: 0.719892 loss: 0.828947\n",
            "[040/300] Train Acc: 0.714850 Loss: 0.857570 | Val Acc: 0.720217 loss: 0.823201\n",
            "[041/300] Train Acc: 0.716077 Loss: 0.855329 | Val Acc: 0.720976 loss: 0.831866\n",
            "[042/300] Train Acc: 0.715984 Loss: 0.853758 | Val Acc: 0.719024 loss: 0.822795\n",
            "[043/300] Train Acc: 0.717295 Loss: 0.850261 | Val Acc: 0.725312 loss: 0.821118\n",
            "saving model with acc 0.725\n",
            "[044/300] Train Acc: 0.717007 Loss: 0.850471 | Val Acc: 0.715881 loss: 0.821946\n",
            "[045/300] Train Acc: 0.717621 Loss: 0.848048 | Val Acc: 0.721951 loss: 0.824136\n",
            "[046/300] Train Acc: 0.718560 Loss: 0.844886 | Val Acc: 0.722276 loss: 0.821218\n",
            "[047/300] Train Acc: 0.719212 Loss: 0.843446 | Val Acc: 0.722385 loss: 0.818143\n",
            "[048/300] Train Acc: 0.719118 Loss: 0.842187 | Val Acc: 0.723360 loss: 0.819744\n",
            "[049/300] Train Acc: 0.720038 Loss: 0.840119 | Val Acc: 0.721843 loss: 0.819548\n",
            "[050/300] Train Acc: 0.719916 Loss: 0.838751 | Val Acc: 0.722927 loss: 0.814830\n",
            "[051/300] Train Acc: 0.721486 Loss: 0.835228 | Val Acc: 0.724986 loss: 0.815721\n",
            "[052/300] Train Acc: 0.721330 Loss: 0.834607 | Val Acc: 0.722276 loss: 0.814658\n",
            "[053/300] Train Acc: 0.722226 Loss: 0.832147 | Val Acc: 0.721301 loss: 0.817496\n",
            "[054/300] Train Acc: 0.722909 Loss: 0.830560 | Val Acc: 0.722602 loss: 0.817283\n",
            "[055/300] Train Acc: 0.723052 Loss: 0.829639 | Val Acc: 0.722385 loss: 0.819239\n",
            "[056/300] Train Acc: 0.723139 Loss: 0.827446 | Val Acc: 0.718699 loss: 0.824357\n",
            "[057/300] Train Acc: 0.723769 Loss: 0.827402 | Val Acc: 0.718699 loss: 0.822192\n",
            "[058/300] Train Acc: 0.723739 Loss: 0.827069 | Val Acc: 0.721192 loss: 0.816646\n",
            "[059/300] Train Acc: 0.724415 Loss: 0.824334 | Val Acc: 0.722818 loss: 0.815152\n",
            "[060/300] Train Acc: 0.724909 Loss: 0.822610 | Val Acc: 0.723794 loss: 0.818811\n",
            "[061/300] Train Acc: 0.725655 Loss: 0.820401 | Val Acc: 0.721626 loss: 0.818402\n",
            "[062/300] Train Acc: 0.725491 Loss: 0.819268 | Val Acc: 0.723360 loss: 0.810460\n",
            "[063/300] Train Acc: 0.725618 Loss: 0.818957 | Val Acc: 0.719892 loss: 0.815408\n",
            "[064/300] Train Acc: 0.727244 Loss: 0.816481 | Val Acc: 0.725854 loss: 0.815151\n",
            "saving model with acc 0.726\n",
            "[065/300] Train Acc: 0.726833 Loss: 0.817135 | Val Acc: 0.726721 loss: 0.807992\n",
            "saving model with acc 0.727\n",
            "[066/300] Train Acc: 0.727054 Loss: 0.815626 | Val Acc: 0.726179 loss: 0.803697\n",
            "[067/300] Train Acc: 0.727609 Loss: 0.813976 | Val Acc: 0.723902 loss: 0.807947\n",
            "[068/300] Train Acc: 0.727853 Loss: 0.812083 | Val Acc: 0.725528 loss: 0.804262\n",
            "[069/300] Train Acc: 0.728140 Loss: 0.810965 | Val Acc: 0.726612 loss: 0.803450\n",
            "[070/300] Train Acc: 0.728645 Loss: 0.810605 | Val Acc: 0.725420 loss: 0.805149\n",
            "[071/300] Train Acc: 0.729004 Loss: 0.809373 | Val Acc: 0.726829 loss: 0.809336\n",
            "saving model with acc 0.727\n",
            "[072/300] Train Acc: 0.728608 Loss: 0.808493 | Val Acc: 0.724878 loss: 0.808362\n",
            "[073/300] Train Acc: 0.729179 Loss: 0.806876 | Val Acc: 0.724119 loss: 0.807556\n",
            "[074/300] Train Acc: 0.729073 Loss: 0.806244 | Val Acc: 0.723686 loss: 0.804783\n",
            "[075/300] Train Acc: 0.730342 Loss: 0.804598 | Val Acc: 0.724228 loss: 0.804385\n",
            "[076/300] Train Acc: 0.729675 Loss: 0.803941 | Val Acc: 0.727263 loss: 0.796539\n",
            "saving model with acc 0.727\n",
            "[077/300] Train Acc: 0.730741 Loss: 0.802743 | Val Acc: 0.724228 loss: 0.806471\n",
            "[078/300] Train Acc: 0.731407 Loss: 0.800457 | Val Acc: 0.726504 loss: 0.808394\n",
            "[079/300] Train Acc: 0.730973 Loss: 0.801317 | Val Acc: 0.724661 loss: 0.806723\n",
            "[080/300] Train Acc: 0.731147 Loss: 0.800117 | Val Acc: 0.726070 loss: 0.802892\n",
            "[081/300] Train Acc: 0.731336 Loss: 0.799724 | Val Acc: 0.727154 loss: 0.804011\n",
            "[082/300] Train Acc: 0.731562 Loss: 0.798877 | Val Acc: 0.726829 loss: 0.804024\n",
            "[083/300] Train Acc: 0.732343 Loss: 0.795981 | Val Acc: 0.731274 loss: 0.804774\n",
            "saving model with acc 0.731\n",
            "[084/300] Train Acc: 0.731944 Loss: 0.796708 | Val Acc: 0.727588 loss: 0.805498\n",
            "[085/300] Train Acc: 0.732841 Loss: 0.795059 | Val Acc: 0.725745 loss: 0.804786\n",
            "[086/300] Train Acc: 0.733305 Loss: 0.794596 | Val Acc: 0.727696 loss: 0.804362\n",
            "[087/300] Train Acc: 0.732797 Loss: 0.794398 | Val Acc: 0.725420 loss: 0.806880\n",
            "[088/300] Train Acc: 0.733413 Loss: 0.791926 | Val Acc: 0.725854 loss: 0.803973\n",
            "[089/300] Train Acc: 0.733998 Loss: 0.791407 | Val Acc: 0.725528 loss: 0.809920\n",
            "[090/300] Train Acc: 0.733997 Loss: 0.791137 | Val Acc: 0.721192 loss: 0.807329\n",
            "[091/300] Train Acc: 0.733943 Loss: 0.791094 | Val Acc: 0.727913 loss: 0.808340\n",
            "[092/300] Train Acc: 0.734832 Loss: 0.789003 | Val Acc: 0.727588 loss: 0.802745\n",
            "[093/300] Train Acc: 0.734729 Loss: 0.789004 | Val Acc: 0.724770 loss: 0.809425\n",
            "[094/300] Train Acc: 0.735338 Loss: 0.787231 | Val Acc: 0.726504 loss: 0.804286\n",
            "[095/300] Train Acc: 0.734926 Loss: 0.787916 | Val Acc: 0.724228 loss: 0.808665\n",
            "[096/300] Train Acc: 0.735097 Loss: 0.786067 | Val Acc: 0.726504 loss: 0.804987\n",
            "[097/300] Train Acc: 0.734919 Loss: 0.786547 | Val Acc: 0.724336 loss: 0.812920\n",
            "[098/300] Train Acc: 0.735963 Loss: 0.784449 | Val Acc: 0.727154 loss: 0.806924\n",
            "[099/300] Train Acc: 0.735734 Loss: 0.785352 | Val Acc: 0.726721 loss: 0.801235\n",
            "[100/300] Train Acc: 0.735502 Loss: 0.785174 | Val Acc: 0.728347 loss: 0.803511\n",
            "[101/300] Train Acc: 0.736476 Loss: 0.782172 | Val Acc: 0.729322 loss: 0.796263\n",
            "[102/300] Train Acc: 0.736376 Loss: 0.782140 | Val Acc: 0.728672 loss: 0.801220\n",
            "[103/300] Train Acc: 0.736558 Loss: 0.782531 | Val Acc: 0.727263 loss: 0.806273\n",
            "[104/300] Train Acc: 0.737453 Loss: 0.780310 | Val Acc: 0.727805 loss: 0.799448\n",
            "[105/300] Train Acc: 0.737193 Loss: 0.780388 | Val Acc: 0.730515 loss: 0.795505\n"
          ]
        },
        {
          "output_type": "error",
          "ename": "KeyboardInterrupt",
          "evalue": "ignored",
          "traceback": [
            "\u001b[0;31m---------------------------------------------------------------------------\u001b[0m",
            "\u001b[0;31mKeyboardInterrupt\u001b[0m                         Traceback (most recent call last)",
            "\u001b[0;32m<ipython-input-39-0061d5934d56>\u001b[0m in \u001b[0;36m<module>\u001b[0;34m\u001b[0m\n\u001b[1;32m     10\u001b[0m     \u001b[0;31m# training\u001b[0m\u001b[0;34m\u001b[0m\u001b[0;34m\u001b[0m\u001b[0m\n\u001b[1;32m     11\u001b[0m     \u001b[0mmodel\u001b[0m\u001b[0;34m.\u001b[0m\u001b[0mtrain\u001b[0m\u001b[0;34m(\u001b[0m\u001b[0;34m)\u001b[0m \u001b[0;31m# set the model to training mode\u001b[0m\u001b[0;34m\u001b[0m\u001b[0;34m\u001b[0m\u001b[0m\n\u001b[0;32m---> 12\u001b[0;31m     \u001b[0;32mfor\u001b[0m \u001b[0mi\u001b[0m\u001b[0;34m,\u001b[0m \u001b[0mdata\u001b[0m \u001b[0;32min\u001b[0m \u001b[0menumerate\u001b[0m\u001b[0;34m(\u001b[0m\u001b[0mtrain_loader\u001b[0m\u001b[0;34m)\u001b[0m\u001b[0;34m:\u001b[0m\u001b[0;34m\u001b[0m\u001b[0;34m\u001b[0m\u001b[0m\n\u001b[0m\u001b[1;32m     13\u001b[0m         \u001b[0minputs\u001b[0m\u001b[0;34m,\u001b[0m \u001b[0mlabels\u001b[0m \u001b[0;34m=\u001b[0m \u001b[0mdata\u001b[0m\u001b[0;34m\u001b[0m\u001b[0;34m\u001b[0m\u001b[0m\n\u001b[1;32m     14\u001b[0m         \u001b[0minputs\u001b[0m\u001b[0;34m,\u001b[0m \u001b[0mlabels\u001b[0m \u001b[0;34m=\u001b[0m \u001b[0minputs\u001b[0m\u001b[0;34m.\u001b[0m\u001b[0mto\u001b[0m\u001b[0;34m(\u001b[0m\u001b[0mdevice\u001b[0m\u001b[0;34m)\u001b[0m\u001b[0;34m,\u001b[0m \u001b[0mlabels\u001b[0m\u001b[0;34m.\u001b[0m\u001b[0mto\u001b[0m\u001b[0;34m(\u001b[0m\u001b[0mdevice\u001b[0m\u001b[0;34m)\u001b[0m\u001b[0;34m\u001b[0m\u001b[0;34m\u001b[0m\u001b[0m\n",
            "\u001b[0;32m/usr/local/lib/python3.9/dist-packages/torch/utils/data/dataloader.py\u001b[0m in \u001b[0;36m__next__\u001b[0;34m(self)\u001b[0m\n\u001b[1;32m    626\u001b[0m                 \u001b[0;31m# TODO(https://github.com/pytorch/pytorch/issues/76750)\u001b[0m\u001b[0;34m\u001b[0m\u001b[0;34m\u001b[0m\u001b[0m\n\u001b[1;32m    627\u001b[0m                 \u001b[0mself\u001b[0m\u001b[0;34m.\u001b[0m\u001b[0m_reset\u001b[0m\u001b[0;34m(\u001b[0m\u001b[0;34m)\u001b[0m  \u001b[0;31m# type: ignore[call-arg]\u001b[0m\u001b[0;34m\u001b[0m\u001b[0;34m\u001b[0m\u001b[0m\n\u001b[0;32m--> 628\u001b[0;31m             \u001b[0mdata\u001b[0m \u001b[0;34m=\u001b[0m \u001b[0mself\u001b[0m\u001b[0;34m.\u001b[0m\u001b[0m_next_data\u001b[0m\u001b[0;34m(\u001b[0m\u001b[0;34m)\u001b[0m\u001b[0;34m\u001b[0m\u001b[0;34m\u001b[0m\u001b[0m\n\u001b[0m\u001b[1;32m    629\u001b[0m             \u001b[0mself\u001b[0m\u001b[0;34m.\u001b[0m\u001b[0m_num_yielded\u001b[0m \u001b[0;34m+=\u001b[0m \u001b[0;36m1\u001b[0m\u001b[0;34m\u001b[0m\u001b[0;34m\u001b[0m\u001b[0m\n\u001b[1;32m    630\u001b[0m             \u001b[0;32mif\u001b[0m \u001b[0mself\u001b[0m\u001b[0;34m.\u001b[0m\u001b[0m_dataset_kind\u001b[0m \u001b[0;34m==\u001b[0m \u001b[0m_DatasetKind\u001b[0m\u001b[0;34m.\u001b[0m\u001b[0mIterable\u001b[0m \u001b[0;32mand\u001b[0m\u001b[0;31m \u001b[0m\u001b[0;31m\\\u001b[0m\u001b[0;34m\u001b[0m\u001b[0;34m\u001b[0m\u001b[0m\n",
            "\u001b[0;32m/usr/local/lib/python3.9/dist-packages/torch/utils/data/dataloader.py\u001b[0m in \u001b[0;36m_next_data\u001b[0;34m(self)\u001b[0m\n\u001b[1;32m    669\u001b[0m     \u001b[0;32mdef\u001b[0m \u001b[0m_next_data\u001b[0m\u001b[0;34m(\u001b[0m\u001b[0mself\u001b[0m\u001b[0;34m)\u001b[0m\u001b[0;34m:\u001b[0m\u001b[0;34m\u001b[0m\u001b[0;34m\u001b[0m\u001b[0m\n\u001b[1;32m    670\u001b[0m         \u001b[0mindex\u001b[0m \u001b[0;34m=\u001b[0m \u001b[0mself\u001b[0m\u001b[0;34m.\u001b[0m\u001b[0m_next_index\u001b[0m\u001b[0;34m(\u001b[0m\u001b[0;34m)\u001b[0m  \u001b[0;31m# may raise StopIteration\u001b[0m\u001b[0;34m\u001b[0m\u001b[0;34m\u001b[0m\u001b[0m\n\u001b[0;32m--> 671\u001b[0;31m         \u001b[0mdata\u001b[0m \u001b[0;34m=\u001b[0m \u001b[0mself\u001b[0m\u001b[0;34m.\u001b[0m\u001b[0m_dataset_fetcher\u001b[0m\u001b[0;34m.\u001b[0m\u001b[0mfetch\u001b[0m\u001b[0;34m(\u001b[0m\u001b[0mindex\u001b[0m\u001b[0;34m)\u001b[0m  \u001b[0;31m# may raise StopIteration\u001b[0m\u001b[0;34m\u001b[0m\u001b[0;34m\u001b[0m\u001b[0m\n\u001b[0m\u001b[1;32m    672\u001b[0m         \u001b[0;32mif\u001b[0m \u001b[0mself\u001b[0m\u001b[0;34m.\u001b[0m\u001b[0m_pin_memory\u001b[0m\u001b[0;34m:\u001b[0m\u001b[0;34m\u001b[0m\u001b[0;34m\u001b[0m\u001b[0m\n\u001b[1;32m    673\u001b[0m             \u001b[0mdata\u001b[0m \u001b[0;34m=\u001b[0m \u001b[0m_utils\u001b[0m\u001b[0;34m.\u001b[0m\u001b[0mpin_memory\u001b[0m\u001b[0;34m.\u001b[0m\u001b[0mpin_memory\u001b[0m\u001b[0;34m(\u001b[0m\u001b[0mdata\u001b[0m\u001b[0;34m,\u001b[0m \u001b[0mself\u001b[0m\u001b[0;34m.\u001b[0m\u001b[0m_pin_memory_device\u001b[0m\u001b[0;34m)\u001b[0m\u001b[0;34m\u001b[0m\u001b[0;34m\u001b[0m\u001b[0m\n",
            "\u001b[0;32m/usr/local/lib/python3.9/dist-packages/torch/utils/data/_utils/fetch.py\u001b[0m in \u001b[0;36mfetch\u001b[0;34m(self, possibly_batched_index)\u001b[0m\n\u001b[1;32m     56\u001b[0m                 \u001b[0mdata\u001b[0m \u001b[0;34m=\u001b[0m \u001b[0mself\u001b[0m\u001b[0;34m.\u001b[0m\u001b[0mdataset\u001b[0m\u001b[0;34m.\u001b[0m\u001b[0m__getitems__\u001b[0m\u001b[0;34m(\u001b[0m\u001b[0mpossibly_batched_index\u001b[0m\u001b[0;34m)\u001b[0m\u001b[0;34m\u001b[0m\u001b[0;34m\u001b[0m\u001b[0m\n\u001b[1;32m     57\u001b[0m             \u001b[0;32melse\u001b[0m\u001b[0;34m:\u001b[0m\u001b[0;34m\u001b[0m\u001b[0;34m\u001b[0m\u001b[0m\n\u001b[0;32m---> 58\u001b[0;31m                 \u001b[0mdata\u001b[0m \u001b[0;34m=\u001b[0m \u001b[0;34m[\u001b[0m\u001b[0mself\u001b[0m\u001b[0;34m.\u001b[0m\u001b[0mdataset\u001b[0m\u001b[0;34m[\u001b[0m\u001b[0midx\u001b[0m\u001b[0;34m]\u001b[0m \u001b[0;32mfor\u001b[0m \u001b[0midx\u001b[0m \u001b[0;32min\u001b[0m \u001b[0mpossibly_batched_index\u001b[0m\u001b[0;34m]\u001b[0m\u001b[0;34m\u001b[0m\u001b[0;34m\u001b[0m\u001b[0m\n\u001b[0m\u001b[1;32m     59\u001b[0m         \u001b[0;32melse\u001b[0m\u001b[0;34m:\u001b[0m\u001b[0;34m\u001b[0m\u001b[0;34m\u001b[0m\u001b[0m\n\u001b[1;32m     60\u001b[0m             \u001b[0mdata\u001b[0m \u001b[0;34m=\u001b[0m \u001b[0mself\u001b[0m\u001b[0;34m.\u001b[0m\u001b[0mdataset\u001b[0m\u001b[0;34m[\u001b[0m\u001b[0mpossibly_batched_index\u001b[0m\u001b[0;34m]\u001b[0m\u001b[0;34m\u001b[0m\u001b[0;34m\u001b[0m\u001b[0m\n",
            "\u001b[0;32m/usr/local/lib/python3.9/dist-packages/torch/utils/data/_utils/fetch.py\u001b[0m in \u001b[0;36m<listcomp>\u001b[0;34m(.0)\u001b[0m\n\u001b[1;32m     56\u001b[0m                 \u001b[0mdata\u001b[0m \u001b[0;34m=\u001b[0m \u001b[0mself\u001b[0m\u001b[0;34m.\u001b[0m\u001b[0mdataset\u001b[0m\u001b[0;34m.\u001b[0m\u001b[0m__getitems__\u001b[0m\u001b[0;34m(\u001b[0m\u001b[0mpossibly_batched_index\u001b[0m\u001b[0;34m)\u001b[0m\u001b[0;34m\u001b[0m\u001b[0;34m\u001b[0m\u001b[0m\n\u001b[1;32m     57\u001b[0m             \u001b[0;32melse\u001b[0m\u001b[0;34m:\u001b[0m\u001b[0;34m\u001b[0m\u001b[0;34m\u001b[0m\u001b[0m\n\u001b[0;32m---> 58\u001b[0;31m                 \u001b[0mdata\u001b[0m \u001b[0;34m=\u001b[0m \u001b[0;34m[\u001b[0m\u001b[0mself\u001b[0m\u001b[0;34m.\u001b[0m\u001b[0mdataset\u001b[0m\u001b[0;34m[\u001b[0m\u001b[0midx\u001b[0m\u001b[0;34m]\u001b[0m \u001b[0;32mfor\u001b[0m \u001b[0midx\u001b[0m \u001b[0;32min\u001b[0m \u001b[0mpossibly_batched_index\u001b[0m\u001b[0;34m]\u001b[0m\u001b[0;34m\u001b[0m\u001b[0;34m\u001b[0m\u001b[0m\n\u001b[0m\u001b[1;32m     59\u001b[0m         \u001b[0;32melse\u001b[0m\u001b[0;34m:\u001b[0m\u001b[0;34m\u001b[0m\u001b[0;34m\u001b[0m\u001b[0m\n\u001b[1;32m     60\u001b[0m             \u001b[0mdata\u001b[0m \u001b[0;34m=\u001b[0m \u001b[0mself\u001b[0m\u001b[0;34m.\u001b[0m\u001b[0mdataset\u001b[0m\u001b[0;34m[\u001b[0m\u001b[0mpossibly_batched_index\u001b[0m\u001b[0;34m]\u001b[0m\u001b[0;34m\u001b[0m\u001b[0;34m\u001b[0m\u001b[0m\n",
            "\u001b[0;32m<ipython-input-31-f6af567917fe>\u001b[0m in \u001b[0;36m__getitem__\u001b[0;34m(self, idx)\u001b[0m\n\u001b[1;32m     13\u001b[0m     \u001b[0;32mdef\u001b[0m \u001b[0m__getitem__\u001b[0m\u001b[0;34m(\u001b[0m\u001b[0mself\u001b[0m\u001b[0;34m,\u001b[0m \u001b[0midx\u001b[0m\u001b[0;34m)\u001b[0m\u001b[0;34m:\u001b[0m\u001b[0;34m\u001b[0m\u001b[0;34m\u001b[0m\u001b[0m\n\u001b[1;32m     14\u001b[0m         \u001b[0;32mif\u001b[0m \u001b[0mself\u001b[0m\u001b[0;34m.\u001b[0m\u001b[0mlabel\u001b[0m \u001b[0;32mis\u001b[0m \u001b[0;32mnot\u001b[0m \u001b[0;32mNone\u001b[0m\u001b[0;34m:\u001b[0m\u001b[0;34m\u001b[0m\u001b[0;34m\u001b[0m\u001b[0m\n\u001b[0;32m---> 15\u001b[0;31m             \u001b[0;32mreturn\u001b[0m \u001b[0mself\u001b[0m\u001b[0;34m.\u001b[0m\u001b[0mdata\u001b[0m\u001b[0;34m[\u001b[0m\u001b[0midx\u001b[0m\u001b[0;34m]\u001b[0m\u001b[0;34m,\u001b[0m \u001b[0mself\u001b[0m\u001b[0;34m.\u001b[0m\u001b[0mlabel\u001b[0m\u001b[0;34m[\u001b[0m\u001b[0midx\u001b[0m\u001b[0;34m]\u001b[0m\u001b[0;34m\u001b[0m\u001b[0;34m\u001b[0m\u001b[0m\n\u001b[0m\u001b[1;32m     16\u001b[0m         \u001b[0;32melse\u001b[0m\u001b[0;34m:\u001b[0m\u001b[0;34m\u001b[0m\u001b[0;34m\u001b[0m\u001b[0m\n\u001b[1;32m     17\u001b[0m             \u001b[0;32mreturn\u001b[0m \u001b[0mself\u001b[0m\u001b[0;34m.\u001b[0m\u001b[0mdata\u001b[0m\u001b[0;34m[\u001b[0m\u001b[0midx\u001b[0m\u001b[0;34m]\u001b[0m\u001b[0;34m\u001b[0m\u001b[0;34m\u001b[0m\u001b[0m\n",
            "\u001b[0;31mKeyboardInterrupt\u001b[0m: "
          ]
        }
      ],
      "source": [
        "# start training\n",
        "\n",
        "best_acc = 0.0\n",
        "for epoch in range(num_epoch):\n",
        "    train_acc = 0.0\n",
        "    train_loss = 0.0\n",
        "    val_acc = 0.0\n",
        "    val_loss = 0.0\n",
        "\n",
        "    # training\n",
        "    model.train() # set the model to training mode\n",
        "    for i, data in enumerate(train_loader):\n",
        "        inputs, labels = data\n",
        "        inputs, labels = inputs.to(device), labels.to(device)\n",
        "        optimizer.zero_grad() \n",
        "        outputs = model(inputs) \n",
        "        batch_loss = criterion(outputs, labels)\n",
        "        _, train_pred = torch.max(outputs, 1) # get the index of the class with the highest probability\n",
        "        batch_loss.backward() \n",
        "        optimizer.step() \n",
        "\n",
        "        train_acc += (train_pred.cpu() == labels.cpu()).sum().item()\n",
        "        train_loss += batch_loss.item()\n",
        "\n",
        "    # validation\n",
        "    if len(val_set) > 0:\n",
        "        model.eval() # set the model to evaluation mode\n",
        "        with torch.no_grad():\n",
        "            for i, data in enumerate(val_loader):\n",
        "                inputs, labels = data\n",
        "                inputs, labels = inputs.to(device), labels.to(device)\n",
        "                outputs = model(inputs)\n",
        "                batch_loss = criterion(outputs, labels) \n",
        "                _, val_pred = torch.max(outputs, 1) \n",
        "            \n",
        "                val_acc += (val_pred.cpu() == labels.cpu()).sum().item() # get the index of the class with the highest probability\n",
        "                val_loss += batch_loss.item()\n",
        "\n",
        "            print('[{:03d}/{:03d}] Train Acc: {:3.6f} Loss: {:3.6f} | Val Acc: {:3.6f} loss: {:3.6f}'.format(\n",
        "                epoch + 1, num_epoch, train_acc/len(train_set), train_loss/len(train_loader), val_acc/len(val_set), val_loss/len(val_loader)\n",
        "            ))\n",
        "\n",
        "            # if the model improves, save a checkpoint at this epoch\n",
        "            if val_acc > best_acc:\n",
        "                best_acc = val_acc\n",
        "                torch.save(model.state_dict(), model_path)\n",
        "                print('saving model with acc {:.3f}'.format(best_acc/len(val_set)))\n",
        "    else:\n",
        "        print('[{:03d}/{:03d}] Train Acc: {:3.6f} Loss: {:3.6f}'.format(\n",
        "            epoch + 1, num_epoch, train_acc/len(train_set), train_loss/len(train_loader)\n",
        "        ))\n",
        "\n",
        "# if not validating, save the last epoch\n",
        "if len(val_set) == 0:\n",
        "    torch.save(model.state_dict(), model_path)\n",
        "    print('saving model at last epoch')\n"
      ]
    },
    {
      "cell_type": "markdown",
      "metadata": {
        "id": "1Hi7jTn3PX-m"
      },
      "source": [
        "## Testing"
      ]
    },
    {
      "cell_type": "markdown",
      "metadata": {
        "id": "NfUECMFCn5VG"
      },
      "source": [
        "Create a testing dataset, and load model from the saved checkpoint."
      ]
    },
    {
      "cell_type": "code",
      "execution_count": null,
      "metadata": {
        "id": "1PKjtAScPWtr",
        "colab": {
          "base_uri": "https://localhost:8080/"
        },
        "outputId": "3ee548b8-a22b-4b4d-c178-7da3c7ea1153"
      },
      "outputs": [
        {
          "output_type": "execute_result",
          "data": {
            "text/plain": [
              "<All keys matched successfully>"
            ]
          },
          "metadata": {},
          "execution_count": 40
        }
      ],
      "source": [
        "# create testing dataset\n",
        "test_set = TIMITDataset(test, None)\n",
        "test_loader = DataLoader(test_set, batch_size=BATCH_SIZE, shuffle=False)\n",
        "\n",
        "# create model and load weights from checkpoint\n",
        "model = Classifier().to(device)\n",
        "model.load_state_dict(torch.load(model_path))"
      ]
    },
    {
      "cell_type": "markdown",
      "metadata": {
        "id": "940TtCCdoYd0"
      },
      "source": [
        "Make prediction."
      ]
    },
    {
      "cell_type": "code",
      "execution_count": null,
      "metadata": {
        "id": "84HU5GGjPqR0"
      },
      "outputs": [],
      "source": [
        "predict = []\n",
        "model.eval() # set the model to evaluation mode\n",
        "with torch.no_grad():\n",
        "    for i, data in enumerate(test_loader):\n",
        "        inputs = data\n",
        "        inputs = inputs.to(device)\n",
        "        outputs = model(inputs)\n",
        "        _, test_pred = torch.max(outputs, 1) # get the index of the class with the highest probability\n",
        "\n",
        "        for y in test_pred.cpu().numpy():\n",
        "            predict.append(y)"
      ]
    },
    {
      "cell_type": "markdown",
      "metadata": {
        "id": "AWDf_C-omElb"
      },
      "source": [
        "Write prediction to a CSV file.\n",
        "\n",
        "After finish running this block, download the file `prediction.csv` from the files section on the left-hand side and submit it to Kaggle."
      ]
    },
    {
      "cell_type": "code",
      "execution_count": null,
      "metadata": {
        "id": "GuljYSPHcZir"
      },
      "outputs": [],
      "source": [
        "with open('tofu_prediction.csv', 'w') as f:\n",
        "    f.write('Id,Class\\n')\n",
        "    for i, y in enumerate(predict):\n",
        "        f.write('{},{}\\n'.format(i, y))"
      ]
    }
  ],
  "metadata": {
    "accelerator": "GPU",
    "colab": {
      "machine_shape": "hm",
      "provenance": []
    },
    "kernelspec": {
      "display_name": "Python 3",
      "name": "python3"
    }
  },
  "nbformat": 4,
  "nbformat_minor": 0
}